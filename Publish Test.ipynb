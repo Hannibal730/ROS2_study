{
 "cells": [
  {
   "cell_type": "code",
   "execution_count": 1,
   "id": "da30c464-daa5-43bd-b4b9-7f7c7c1716ed",
   "metadata": {},
   "outputs": [],
   "source": [
    "import rclpy as rp\n",
    "from geometry_msgs.msg import Twist\n",
    "\n",
    "rp.init()\n",
    "test_node=rp.create_node(\"pub_test\")"
   ]
  },
  {
   "cell_type": "markdown",
   "id": "d4b964bd-3b98-45f6-95d4-45fbd1de344d",
   "metadata": {},
   "source": [
    "* turtle1의 토픽인 cmd_vel을 발행할 건데, 이 토픽의 데이터 데이터타입은 geometry_msgs/msg/Twist이다.\n",
    "* geometry_msgs는 ROS2의 기하학 패키지, msg는 그 안의 여러 데이터 타입들, Twist 그중에서도 선형속도, 각속도 데이터타입.\n",
    "* rp.init()로 초기화를 먼저 해줘야, 다른 노드들 간의 연결이 활성화됨.\n",
    "* rp의 create_node함수. 말 그대로 노드생성함수"
   ]
  },
  {
   "cell_type": "code",
   "execution_count": 2,
   "id": "6e537ff1-8299-49dc-a185-be9feed374e1",
   "metadata": {},
   "outputs": [
    {
     "name": "stdout",
     "output_type": "stream",
     "text": [
      "geometry_msgs.msg.Twist(linear=geometry_msgs.msg.Vector3(x=0.0, y=0.0, z=0.0), angular=geometry_msgs.msg.Vector3(x=0.0, y=0.0, z=0.0))\n"
     ]
    }
   ],
   "source": [
    "msg=Twist()\n",
    "print(msg)"
   ]
  },
  {
   "cell_type": "markdown",
   "id": "5fae8ef4-e242-48f8-8cb6-2a2be7470b26",
   "metadata": {},
   "source": [
    "msg라는 변수를 만들 때 쓰는 TWist()의 결과물인 선형속도벡터와 각속도벡터 모두 기본적으로는 영벡터로 생성됨."
   ]
  },
  {
   "cell_type": "code",
   "execution_count": 7,
   "id": "54cbb7c0-3e9a-401a-838a-255bdfdeae39",
   "metadata": {},
   "outputs": [
    {
     "name": "stdout",
     "output_type": "stream",
     "text": [
      "geometry_msgs.msg.Twist(linear=geometry_msgs.msg.Vector3(x=1.0, y=2.0, z=0.0), angular=geometry_msgs.msg.Vector3(x=0.0, y=0.0, z=2.0))\n"
     ]
    }
   ],
   "source": [
    "msg.linear.x=1.0\n",
    "msg.linear.y=2.0\n",
    "msg.angular.z=2.0\n",
    "print(msg)"
   ]
  },
  {
   "cell_type": "markdown",
   "id": "edcbb029-aa39-490b-8fd9-70e143b94dab",
   "metadata": {},
   "source": [
    "Twist()의 결과물인 msg의 요소인 linear.xyz, angular.xyz를 수정하기"
   ]
  },
  {
   "cell_type": "code",
   "execution_count": 8,
   "id": "be2371bd-3fea-4822-9a2d-1dd2cb005252",
   "metadata": {},
   "outputs": [],
   "source": [
    "pub=test_node.create_publisher(Twist, '/turtle1/cmd_vel', 10)\n",
    "pub.publish(msg)"
   ]
  },
  {
   "cell_type": "markdown",
   "id": "72d101d6-fba5-4032-b160-fef4e5c599dd",
   "metadata": {},
   "source": [
    "* 목표 다음과 같다.\n",
    "1. '우리가 원하는 데이터타입의 메시지를 우리가 원하는 토픽에 발행할 퍼블리셔'를 어떤 노드에 만듦.\n",
    "2. 그 메시지의 데이터타입은 우리가 지정해줘야 함.\n",
    "3. 우리가 조종해야 할 토픽이 그 메시지를 받고 수정되어야 함. 우리는 터틀심을 이동시키는 토픽을 수정시켜야 함.\n",
    "4. 따라서 우리가 조종해야 할 그 토픽이 사용하는 데이터 타입으로 우리가 2번에서 지정해줘야 함.\n",
    "5. 그 토픽이 퍼블리셔가 발행하는 메시지를 구독하게 해줘야 함.\n",
    "6. 그 토픽이 수정되면, 그 토픽이 터틀심을 이동시킴.\n",
    "\n",
    "* 우리가 조종해야 할 토픽은 turtle1 모듈의 cmd_vel 토픽이다.\n",
    "* 다른 노드들은 이 cmd_vel 토픽을 구독하여 메시지를 받을 수 있다.\n",
    "* 발행되는 메시지의 데이터타입이 Twist이다. geometry_msgs/msg/Twist에서의 그 Twist.\n",
    "* Qos란 퍼블리셔가 발행한 메시지를 임시로 저장하는 큐의 크기. 큐가 가득 차면 새로 들어오는 메시지는 이전 메시지들이 처리될 때까지 버려짐.\n",
    "\n",
    "* pub_test라는 노드에서 pub이라는 퍼블리셔를 생성시킴.\n",
    "* 이를 위해 pub_test의 참조변수인 test_node에 create_publisher 함수를 작동시킴. \n",
    "* 이 퍼블리셔는 Twist타입의 메시지를 /turtle1/cmd_vel 토픽에 발행시킬 것임\n",
    "\n",
    "* 퍼블리셔가 msg라는 데이터 내용을 발행."
   ]
  },
  {
   "cell_type": "code",
   "execution_count": 10,
   "id": "9caf14c4-dd15-48db-9ce0-34a7d45e22db",
   "metadata": {},
   "outputs": [
    {
     "name": "stdout",
     "output_type": "stream",
     "text": [
      "1\n",
      "2\n",
      "3\n",
      "4\n"
     ]
    },
    {
     "ename": "Exception",
     "evalue": "Publish Stop!",
     "output_type": "error",
     "traceback": [
      "\u001b[0;31m---------------------------------------------------------------------------\u001b[0m",
      "\u001b[0;31mException\u001b[0m                                 Traceback (most recent call last)",
      "Cell \u001b[0;32mIn[10], line 12\u001b[0m\n\u001b[1;32m     10\u001b[0m timer_period\u001b[38;5;241m=\u001b[39m\u001b[38;5;241m2\u001b[39m \u001b[38;5;66;03m#2초에 한 번씩\u001b[39;00m\n\u001b[1;32m     11\u001b[0m timer\u001b[38;5;241m=\u001b[39mtest_node\u001b[38;5;241m.\u001b[39mcreate_timer (timer_period, timer_callback)\n\u001b[0;32m---> 12\u001b[0m \u001b[43mrp\u001b[49m\u001b[38;5;241;43m.\u001b[39;49m\u001b[43mspin\u001b[49m\u001b[43m(\u001b[49m\u001b[43mtest_node\u001b[49m\u001b[43m)\u001b[49m\n",
      "File \u001b[0;32m/opt/ros/humble/local/lib/python3.10/dist-packages/rclpy/__init__.py:222\u001b[0m, in \u001b[0;36mspin\u001b[0;34m(node, executor)\u001b[0m\n\u001b[1;32m    220\u001b[0m     executor\u001b[38;5;241m.\u001b[39madd_node(node)\n\u001b[1;32m    221\u001b[0m     \u001b[38;5;28;01mwhile\u001b[39;00m executor\u001b[38;5;241m.\u001b[39mcontext\u001b[38;5;241m.\u001b[39mok():\n\u001b[0;32m--> 222\u001b[0m         \u001b[43mexecutor\u001b[49m\u001b[38;5;241;43m.\u001b[39;49m\u001b[43mspin_once\u001b[49m\u001b[43m(\u001b[49m\u001b[43m)\u001b[49m\n\u001b[1;32m    223\u001b[0m \u001b[38;5;28;01mfinally\u001b[39;00m:\n\u001b[1;32m    224\u001b[0m     executor\u001b[38;5;241m.\u001b[39mremove_node(node)\n",
      "File \u001b[0;32m/opt/ros/humble/local/lib/python3.10/dist-packages/rclpy/executors.py:739\u001b[0m, in \u001b[0;36mSingleThreadedExecutor.spin_once\u001b[0;34m(self, timeout_sec)\u001b[0m\n\u001b[1;32m    738\u001b[0m \u001b[38;5;28;01mdef\u001b[39;00m \u001b[38;5;21mspin_once\u001b[39m(\u001b[38;5;28mself\u001b[39m, timeout_sec: \u001b[38;5;28mfloat\u001b[39m \u001b[38;5;241m=\u001b[39m \u001b[38;5;28;01mNone\u001b[39;00m) \u001b[38;5;241m-\u001b[39m\u001b[38;5;241m>\u001b[39m \u001b[38;5;28;01mNone\u001b[39;00m:\n\u001b[0;32m--> 739\u001b[0m     \u001b[38;5;28;43mself\u001b[39;49m\u001b[38;5;241;43m.\u001b[39;49m\u001b[43m_spin_once_impl\u001b[49m\u001b[43m(\u001b[49m\u001b[43mtimeout_sec\u001b[49m\u001b[43m)\u001b[49m\n",
      "File \u001b[0;32m/opt/ros/humble/local/lib/python3.10/dist-packages/rclpy/executors.py:736\u001b[0m, in \u001b[0;36mSingleThreadedExecutor._spin_once_impl\u001b[0;34m(self, timeout_sec)\u001b[0m\n\u001b[1;32m    734\u001b[0m handler()\n\u001b[1;32m    735\u001b[0m \u001b[38;5;28;01mif\u001b[39;00m handler\u001b[38;5;241m.\u001b[39mexception() \u001b[38;5;129;01mis\u001b[39;00m \u001b[38;5;129;01mnot\u001b[39;00m \u001b[38;5;28;01mNone\u001b[39;00m:\n\u001b[0;32m--> 736\u001b[0m     \u001b[38;5;28;01mraise\u001b[39;00m handler\u001b[38;5;241m.\u001b[39mexception()\n",
      "File \u001b[0;32m/opt/ros/humble/local/lib/python3.10/dist-packages/rclpy/task.py:239\u001b[0m, in \u001b[0;36mTask.__call__\u001b[0;34m(self)\u001b[0m\n\u001b[1;32m    236\u001b[0m \u001b[38;5;28;01mif\u001b[39;00m inspect\u001b[38;5;241m.\u001b[39miscoroutine(\u001b[38;5;28mself\u001b[39m\u001b[38;5;241m.\u001b[39m_handler):\n\u001b[1;32m    237\u001b[0m     \u001b[38;5;66;03m# Execute a coroutine\u001b[39;00m\n\u001b[1;32m    238\u001b[0m     \u001b[38;5;28;01mtry\u001b[39;00m:\n\u001b[0;32m--> 239\u001b[0m         \u001b[38;5;28;43mself\u001b[39;49m\u001b[38;5;241;43m.\u001b[39;49m\u001b[43m_handler\u001b[49m\u001b[38;5;241;43m.\u001b[39;49m\u001b[43msend\u001b[49m\u001b[43m(\u001b[49m\u001b[38;5;28;43;01mNone\u001b[39;49;00m\u001b[43m)\u001b[49m\n\u001b[1;32m    240\u001b[0m     \u001b[38;5;28;01mexcept\u001b[39;00m \u001b[38;5;167;01mStopIteration\u001b[39;00m \u001b[38;5;28;01mas\u001b[39;00m e:\n\u001b[1;32m    241\u001b[0m         \u001b[38;5;66;03m# The coroutine finished; store the result\u001b[39;00m\n\u001b[1;32m    242\u001b[0m         \u001b[38;5;28mself\u001b[39m\u001b[38;5;241m.\u001b[39m_handler\u001b[38;5;241m.\u001b[39mclose()\n",
      "File \u001b[0;32m/opt/ros/humble/local/lib/python3.10/dist-packages/rclpy/executors.py:437\u001b[0m, in \u001b[0;36mExecutor._make_handler.<locals>.handler\u001b[0;34m(entity, gc, is_shutdown, work_tracker)\u001b[0m\n\u001b[1;32m    434\u001b[0m gc\u001b[38;5;241m.\u001b[39mtrigger()\n\u001b[1;32m    436\u001b[0m \u001b[38;5;28;01mtry\u001b[39;00m:\n\u001b[0;32m--> 437\u001b[0m     \u001b[38;5;28;01mawait\u001b[39;00m call_coroutine(entity, arg)\n\u001b[1;32m    438\u001b[0m \u001b[38;5;28;01mfinally\u001b[39;00m:\n\u001b[1;32m    439\u001b[0m     entity\u001b[38;5;241m.\u001b[39mcallback_group\u001b[38;5;241m.\u001b[39mending_execution(entity)\n",
      "File \u001b[0;32m/opt/ros/humble/local/lib/python3.10/dist-packages/rclpy/executors.py:351\u001b[0m, in \u001b[0;36mExecutor._execute_timer\u001b[0;34m(self, tmr, _)\u001b[0m\n\u001b[1;32m    350\u001b[0m \u001b[38;5;28;01masync\u001b[39;00m \u001b[38;5;28;01mdef\u001b[39;00m \u001b[38;5;21m_execute_timer\u001b[39m(\u001b[38;5;28mself\u001b[39m, tmr, _):\n\u001b[0;32m--> 351\u001b[0m     \u001b[38;5;28;01mawait\u001b[39;00m await_or_execute(tmr\u001b[38;5;241m.\u001b[39mcallback)\n",
      "File \u001b[0;32m/opt/ros/humble/local/lib/python3.10/dist-packages/rclpy/executors.py:107\u001b[0m, in \u001b[0;36mawait_or_execute\u001b[0;34m(callback, *args)\u001b[0m\n\u001b[1;32m    104\u001b[0m     \u001b[38;5;28;01mreturn\u001b[39;00m \u001b[38;5;28;01mawait\u001b[39;00m callback(\u001b[38;5;241m*\u001b[39margs)\n\u001b[1;32m    105\u001b[0m \u001b[38;5;28;01melse\u001b[39;00m:\n\u001b[1;32m    106\u001b[0m     \u001b[38;5;66;03m# Call a normal function\u001b[39;00m\n\u001b[0;32m--> 107\u001b[0m     \u001b[38;5;28;01mreturn\u001b[39;00m \u001b[43mcallback\u001b[49m\u001b[43m(\u001b[49m\u001b[38;5;241;43m*\u001b[39;49m\u001b[43margs\u001b[49m\u001b[43m)\u001b[49m\n",
      "Cell \u001b[0;32mIn[9], line 8\u001b[0m, in \u001b[0;36mtimer_callback\u001b[0;34m()\u001b[0m\n\u001b[1;32m      6\u001b[0m pub\u001b[38;5;241m.\u001b[39mpublish(msg)\n\u001b[1;32m      7\u001b[0m \u001b[38;5;28;01mif\u001b[39;00m cnt\u001b[38;5;241m>\u001b[39m\u001b[38;5;241m3\u001b[39m:\n\u001b[0;32m----> 8\u001b[0m     \u001b[38;5;28;01mraise\u001b[39;00m \u001b[38;5;167;01mException\u001b[39;00m(\u001b[38;5;124m\"\u001b[39m\u001b[38;5;124mPublish Stop!\u001b[39m\u001b[38;5;124m\"\u001b[39m)\n",
      "\u001b[0;31mException\u001b[0m: Publish Stop!"
     ]
    }
   ],
   "source": [
    "cnt=0\n",
    "def timer_callback():\n",
    "    global cnt\n",
    "    cnt+=1\n",
    "    print(cnt)\n",
    "    pub.publish(msg)\n",
    "    if cnt>3:\n",
    "        raise Exception(\"Publish Stop!\")\n",
    "\n",
    "timer_period=2 #2초에 한 번씩\n",
    "timer=test_node.create_timer (timer_period, timer_callback)\n",
    "rp.spin(test_node)"
   ]
  },
  {
   "cell_type": "markdown",
   "id": "ca7855b8-4e8a-4637-9542-dd679fe9314c",
   "metadata": {},
   "source": [
    "create_timer 함수를 활용.\n",
    "2초마다 진행하며, 3번만 반복할 스핀"
   ]
  },
  {
   "cell_type": "code",
   "execution_count": null,
   "id": "b016fb76-6673-4377-9900-72bce21eba3d",
   "metadata": {},
   "outputs": [],
   "source": []
  }
 ],
 "metadata": {
  "kernelspec": {
   "display_name": "Python 3 (ipykernel)",
   "language": "python",
   "name": "python3"
  },
  "language_info": {
   "codemirror_mode": {
    "name": "ipython",
    "version": 3
   },
   "file_extension": ".py",
   "mimetype": "text/x-python",
   "name": "python",
   "nbconvert_exporter": "python",
   "pygments_lexer": "ipython3",
   "version": "3.10.12"
  }
 },
 "nbformat": 4,
 "nbformat_minor": 5
}
