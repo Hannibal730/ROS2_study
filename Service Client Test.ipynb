{
 "cells": [
  {
   "cell_type": "code",
   "execution_count": 1,
   "id": "e47cb582-e6b9-4960-9a1d-6115ebce58a4",
   "metadata": {},
   "outputs": [],
   "source": [
    "import rclpy as rp\n",
    "from turtlesim.srv import TeleportAbsolute\n",
    "rp.init()\n",
    "test_node=rp.create_node('client_test')"
   ]
  },
  {
   "cell_type": "markdown",
   "id": "f405b760-b06c-47f8-82ed-bfaa0d2aeca5",
   "metadata": {},
   "source": [
    "from turtlesim.srv import TeleportAbsolute 어디서 튀어나온 건가?\n",
    "* 터틀심 켜둔 상태에서 ros2 service list 조회하면, 우리가 보낼 리퀘스트를 리스폰스해줄 수 있는 서비스들의 주소가 나옴.\n",
    "* 그중 /turtle1/teleport_absolute라는 서비스 주소를 실습해볼 거임. 이 서비스 주소는 거북이를 순간이동시켜주는 기능을 함.\n",
    "* 해당 서비스의 주소에 리퀘스트를 보내려면, 그 서비스가 알아들을 데이터 타입으로 리퀘스트를 보내줘야 함.\n",
    "* ros2 service type /turtle1/teleport_absolute를 조회하면, 이 서비스 주소에 리퀘스트할 때 지켜야 할 데이터 타입이 나옴.\n",
    "* 조회 결과, turtlesim/srv/TeleportAbsolute임.\n",
    "* turtlesim/srv는 Ros2의 터틀심 패키지 안에 있는 서비스 폴더를 의미하고, TeleportAbsolute는 그 폴더 안에 있는 '서비스의 데이터 정의', 즉 데이터 타입이다.\n",
    "* from turtlesim.srv import TeleportAbsolute는 그 서비스 폴더에서 TeleportAbsolute라는 데이터타입을 가져온다."
   ]
  },
  {
   "cell_type": "markdown",
   "id": "d3daac16-d37b-403e-a1a2-85ee8f4a4e63",
   "metadata": {},
   "source": [
    "이름이 client_test인 test_node를 생성"
   ]
  },
  {
   "cell_type": "code",
   "execution_count": 2,
   "id": "856ee66d-14f5-49a5-aab8-3e703ce2bd3d",
   "metadata": {},
   "outputs": [],
   "source": [
    "service_name='/turtle1/teleport_absolute'\n",
    "cli=test_node.create_client(TeleportAbsolute, service_name)"
   ]
  },
  {
   "cell_type": "markdown",
   "id": "44953ba9-f490-44a7-bafd-a7865fb765dd",
   "metadata": {},
   "source": [
    "서비스를 받는 과정: 클라이언트가 리퀘스트를 보내면, 서비스가 리스폰스를 해줌.\n",
    "* test_node가 클라이언트를 갖게 될 거임. (노드는 방, 클라이언트는 그 방 안에서 특정 작업을 수행하는 도구)\n",
    "* service_name: 리퀘스트를 전달받게 될 서비스의 주소 (/turtle1/teleport_absolute'는 터틀심에서 터틀1을 텔레포트시키는 서비스의 경로)\n",
    "* TeleportAbsolute: 리퀘스트에 담길 데이터타입에 대한 정보.\n",
    "* create_client: 리퀘스트를 보낼 클라이언트 생성\n",
    "* cli: 클라이언트가 TeleportAbsolute라는 데이터타입이 담긴 리퀘스트를 service_name주소로 보낼 준비 완료."
   ]
  },
  {
   "cell_type": "code",
   "execution_count": 3,
   "id": "a6b03ae0-2a1b-46be-91c7-0a8269671682",
   "metadata": {},
   "outputs": [
    {
     "data": {
      "text/plain": [
       "turtlesim.srv.TeleportAbsolute_Request(x=0.0, y=0.0, theta=0.0)"
      ]
     },
     "execution_count": 3,
     "metadata": {},
     "output_type": "execute_result"
    }
   ],
   "source": [
    "req=TeleportAbsolute.Request()\n",
    "req"
   ]
  },
  {
   "cell_type": "markdown",
   "id": "45432e80-f9f6-4881-a936-1cfcfcd2d473",
   "metadata": {},
   "source": [
    "* 리퀘스트에 동봉되는 데이터타입은 srv파일의 형태로 ROS 패키지의 srv폴더에 저장된다.\n",
    "* 이때 srv파일은 다음과 같았다.\n",
    "\n",
    "'리퀘스트 형식'\n",
    "\n",
    " '----------- '\n",
    "\n",
    "'리스폰스 형식\"\n",
    "* 이때 우리는 리퀘스트 형식만 필요한 상황이잖아.\n",
    "* 그래서 파일.Request()로 리퀘스트 형식만 사용한다.\n",
    "* 위 셀의 결과를 보면 리퀘스트 형식이 x, y, theta라는 점과 해당 값들이 모두 0으로 초기화된 것을 알 수 있다."
   ]
  },
  {
   "cell_type": "code",
   "execution_count": 26,
   "id": "e16b644e-f14e-435c-8161-6ca0916f3b1c",
   "metadata": {},
   "outputs": [],
   "source": [
    "req.x=1.\n",
    "req.y=3.\n",
    "req.theta=3."
   ]
  },
  {
   "cell_type": "markdown",
   "id": "6629fe80-a3b8-4550-b9fe-9b774e8fd9e5",
   "metadata": {},
   "source": [
    "초기화값이 플롯형식이었기 때문에 우리도 값을 지정해줄 때 플롯 형식으로 지정해준다."
   ]
  },
  {
   "cell_type": "code",
   "execution_count": 27,
   "id": "e78151e0-c0bf-4301-b4d2-ecf2f09f866c",
   "metadata": {},
   "outputs": [],
   "source": [
    "cli.call_async(req)\n",
    "rp.spin_once(test_node)"
   ]
  },
  {
   "cell_type": "markdown",
   "id": "6c6c3dd2-8300-4850-98aa-3af7762835c5",
   "metadata": {},
   "source": [
    "서비스 호출\n",
    "\n",
    "콜백"
   ]
  },
  {
   "cell_type": "code",
   "execution_count": 29,
   "id": "eeae1a63-3069-4bc0-92bf-fa6d645f2a0e",
   "metadata": {},
   "outputs": [],
   "source": [
    "req.y=2.\n",
    "while not cli.wait_for_service(timeout_sec=1.):\n",
    "    print(\"waiting for service\")\n",
    "cli.call_async(req)\n",
    "rp.spin_once(test_node)"
   ]
  },
  {
   "cell_type": "markdown",
   "id": "206176a3-bc6d-491f-9f85-903ade0e6c79",
   "metadata": {},
   "source": [
    "서비스 서버가 실행 중이지 않을 때, 서비스 클라이언트가 리퀘스트하는 상황을 가정.\n",
    "\n",
    "이때는 서비스 서버가 준비될 때까지 리퀘스트를 대기시켜야 한다.\n",
    "\n",
    "* cli.wait_for_service(timeout_sec=1.): 이 함수는 클라이언트가 지정한 서비스 이름에 대해 서비스 서버가 준비되었는지 확인한다.\n",
    "* timeout_sec 인자는 서비스가 준비되기를 기다릴 최대 시간.\n",
    "* 이 함수는 서비스 서버가 준비되면 True를, 준비되지 않으면 False를 반환.\n",
    "* False가 나오면 while not 반복문 반복, True가 나오면 반복문 탈출."
   ]
  },
  {
   "cell_type": "code",
   "execution_count": null,
   "id": "a227e6e7-a7e9-4d33-a3cf-18831f2375ab",
   "metadata": {},
   "outputs": [],
   "source": []
  }
 ],
 "metadata": {
  "kernelspec": {
   "display_name": "Python 3 (ipykernel)",
   "language": "python",
   "name": "python3"
  },
  "language_info": {
   "codemirror_mode": {
    "name": "ipython",
    "version": 3
   },
   "file_extension": ".py",
   "mimetype": "text/x-python",
   "name": "python",
   "nbconvert_exporter": "python",
   "pygments_lexer": "ipython3",
   "version": "3.10.12"
  }
 },
 "nbformat": 4,
 "nbformat_minor": 5
}
